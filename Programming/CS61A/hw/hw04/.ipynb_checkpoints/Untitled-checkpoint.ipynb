{
 "cells": [
  {
   "cell_type": "code",
   "execution_count": 2,
   "id": "6c8c27e5",
   "metadata": {},
   "outputs": [
    {
     "data": {
      "text/plain": [
       "[2, 0]"
      ]
     },
     "execution_count": 2,
     "metadata": {},
     "output_type": "execute_result"
    }
   ],
   "source": [
    "def filter(condition, lst):\n",
    "    \"\"\"Filters lst with condition using mutation.\n",
    "    >>> original_list = [5, -1, 2, 0]\n",
    "    >>> filter(lambda x: x % 2 == 0, original_list)\n",
    "    >>> original_list\n",
    "    [2, 0]\n",
    "    \"\"\"\n",
    "    \"*** YOUR CODE HERE ***\"\n",
    "    list = [x for x in lst if condition(x)==True]\n",
    "original_list = [5, -1, 2, 0]\n",
    "filter(lambda x: x % 2 == 0,original_list)\n",
    "original_list"
   ]
  },
  {
   "cell_type": "code",
   "execution_count": null,
   "id": "aacec38a",
   "metadata": {},
   "outputs": [],
   "source": []
  }
 ],
 "metadata": {
  "kernelspec": {
   "display_name": "Python 3 (ipykernel)",
   "language": "python",
   "name": "python3"
  },
  "language_info": {
   "codemirror_mode": {
    "name": "ipython",
    "version": 3
   },
   "file_extension": ".py",
   "mimetype": "text/x-python",
   "name": "python",
   "nbconvert_exporter": "python",
   "pygments_lexer": "ipython3",
   "version": "3.10.6"
  }
 },
 "nbformat": 4,
 "nbformat_minor": 5
}
