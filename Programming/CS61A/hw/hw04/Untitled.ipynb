{
 "cells": [
  {
   "cell_type": "code",
   "execution_count": 4,
   "id": "551edbb7",
   "metadata": {},
   "outputs": [
    {
     "data": {
      "text/plain": [
       "[5, -1, 2, 0]"
      ]
     },
     "execution_count": 4,
     "metadata": {},
     "output_type": "execute_result"
    }
   ],
   "source": [
    "def filter(condition, lst):\n",
    "    \"\"\"Filters lst with condition using mutation.\n",
    "    >>> original_list = [5, -1, 2, 0]\n",
    "    >>> filter(lambda x: x % 2 == 0, original_list)\n",
    "    >>> original_list\n",
    "    [2, 0]\n",
    "    \"\"\"\n",
    "    \"*** YOUR CODE HERE ***\"\n",
    "    for i in range(len(lst)):\n",
    "        of condition(lst[i]) == True:\n",
    "            lst\n",
    "original_list = [5, -1, 2, 0]\n",
    "filter(lambda x: x % 2 == 0,original_list)\n",
    "original_list"
   ]
  },
  {
   "cell_type": "code",
   "execution_count": null,
   "id": "7217f717",
   "metadata": {},
   "outputs": [],
   "source": []
  }
 ],
 "metadata": {
  "kernelspec": {
   "display_name": "Python 3 (ipykernel)",
   "language": "python",
   "name": "python3"
  },
  "language_info": {
   "codemirror_mode": {
    "name": "ipython",
    "version": 3
   },
   "file_extension": ".py",
   "mimetype": "text/x-python",
   "name": "python",
   "nbconvert_exporter": "python",
   "pygments_lexer": "ipython3",
   "version": "3.10.6"
  }
 },
 "nbformat": 4,
 "nbformat_minor": 5
}
